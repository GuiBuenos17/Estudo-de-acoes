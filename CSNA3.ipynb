{
  "nbformat": 4,
  "nbformat_minor": 0,
  "metadata": {
    "colab": {
      "provenance": []
    },
    "kernelspec": {
      "name": "python3",
      "display_name": "Python 3"
    },
    "language_info": {
      "name": "python"
    }
  },
  "cells": [
    {
      "cell_type": "markdown",
      "source": [
        "# 1. Importando as bibliotecas"
      ],
      "metadata": {
        "id": "8yx2tRHAVFgH"
      }
    },
    {
      "cell_type": "code",
      "execution_count": null,
      "metadata": {
        "id": "T_amlgehi3im"
      },
      "outputs": [],
      "source": [
        "import numpy as np\n",
        "import pandas as pd\n",
        "from sklearn.preprocessing import MinMaxScaler, RobustScaler\n",
        "from sklearn.utils.class_weight import compute_class_weight\n",
        "from tensorflow.keras.models import Sequential\n",
        "from tensorflow.keras.layers import LSTM, Dense, Dropout, Bidirectional, BatchNormalization\n",
        "from tensorflow.keras.callbacks import EarlyStopping, ModelCheckpoint, ReduceLROnPlateau\n",
        "from tensorflow.keras.optimizers import Adam\n",
        "from sklearn.metrics import confusion_matrix, precision_score, recall_score, f1_score, classification_report\n",
        "import seaborn as sns\n",
        "import matplotlib.pyplot as plt"
      ]
    },
    {
      "cell_type": "markdown",
      "source": [
        "# 2. Carregamento dos dados de treino e teste"
      ],
      "metadata": {
        "id": "Lv5PfDxMVNtl"
      }
    },
    {
      "cell_type": "code",
      "source": [
        "train_data = pd.read_csv('treino.csv')\n",
        "test_data = pd.read_csv('teste.csv')"
      ],
      "metadata": {
        "id": "yjGdcH0zi5hg"
      },
      "execution_count": null,
      "outputs": []
    },
    {
      "cell_type": "markdown",
      "source": [
        "# 3. Extração das colunas de entrada (fechamentos passados)"
      ],
      "metadata": {
        "id": "oXU536BFVOLN"
      }
    },
    {
      "cell_type": "code",
      "source": [
        "past_close_columns = [f'Past_{i}_Days_Close' for i in range(1, 16)]\n",
        "X_train = train_data[past_close_columns].values\n",
        "X_test = test_data[past_close_columns].values"
      ],
      "metadata": {
        "id": "_O1w0QxWjFpc"
      },
      "execution_count": null,
      "outputs": []
    },
    {
      "cell_type": "markdown",
      "source": [
        "# 4. Escalonamento dos dados com RobustScaler"
      ],
      "metadata": {
        "id": "PDiY3kjmVPaU"
      }
    },
    {
      "cell_type": "code",
      "source": [
        "scaler = RobustScaler()\n",
        "X_train_scaled = scaler.fit_transform(X_train)\n",
        "X_test_scaled = scaler.transform(X_test)"
      ],
      "metadata": {
        "id": "9B8ZKhP2jO1l"
      },
      "execution_count": null,
      "outputs": []
    },
    {
      "cell_type": "markdown",
      "source": [
        "# 5. Função para criar sequências e realizar aumento de dados com ruído\n"
      ],
      "metadata": {
        "id": "_szFrKwFVQNt"
      }
    },
    {
      "cell_type": "code",
      "source": [
        "def create_sequences(data, labels, time_steps=15):\n",
        "    X, y = [], []\n",
        "    for i in range(time_steps, len(data)):\n",
        "        sequence = data[i - time_steps:i]\n",
        "        X.append(sequence)\n",
        "        y.append(labels[i])\n",
        "\n",
        "        # Data augmentation - adicionando ruído\n",
        "        if labels[i] == 1:\n",
        "            noisy_sequence = sequence + np.random.normal(0, 0.01, sequence.shape)\n",
        "            X.append(noisy_sequence)\n",
        "            y.append(labels[i])\n",
        "\n",
        "    return np.array(X), np.array(y)"
      ],
      "metadata": {
        "id": "fxh4v5jajSPR"
      },
      "execution_count": null,
      "outputs": []
    },
    {
      "cell_type": "markdown",
      "source": [
        "# 6. Criação de sequências para treino e teste"
      ],
      "metadata": {
        "id": "mQ6RicZxVQwd"
      }
    },
    {
      "cell_type": "code",
      "source": [
        "X_train_seq, y_train = create_sequences(X_train_scaled, train_data['Label'].values)\n",
        "X_test_seq, y_test = create_sequences(X_test_scaled, test_data['Label'].values)"
      ],
      "metadata": {
        "id": "V61qyFuEjUQh"
      },
      "execution_count": null,
      "outputs": []
    },
    {
      "cell_type": "markdown",
      "source": [
        "# 7. Normalização de rótulos para valores binários (0 para -1 e 1 para 1)"
      ],
      "metadata": {
        "id": "jxMTKVtaVRqc"
      }
    },
    {
      "cell_type": "code",
      "source": [
        "y_train = np.where(y_train == -1, 0, y_train)\n",
        "y_test = np.where(y_test == -1, 0, y_test)"
      ],
      "metadata": {
        "id": "9NpYuZ8ejW8h"
      },
      "execution_count": null,
      "outputs": []
    },
    {
      "cell_type": "markdown",
      "source": [
        "# 8. Cálculo de pesos de classe para lidar com desbalanceamento\n"
      ],
      "metadata": {
        "id": "daQ7rJjLVSe8"
      }
    },
    {
      "cell_type": "code",
      "source": [
        "class_weights = compute_class_weight('balanced', classes=np.array([0, 1]), y=y_train)\n",
        "class_weight_dict = {0: class_weights[0], 1: class_weights[1]}"
      ],
      "metadata": {
        "id": "4AKJnn2zjYpY"
      },
      "execution_count": null,
      "outputs": []
    },
    {
      "cell_type": "markdown",
      "source": [
        "# 9. Definição da arquitetura do modelo LSTM bidirecional"
      ],
      "metadata": {
        "id": "MpaC5A02VTBc"
      }
    },
    {
      "cell_type": "code",
      "source": [
        "model = Sequential([\n",
        "    Bidirectional(LSTM(128, return_sequences=True), input_shape=(X_train_seq.shape[1], X_train_seq.shape[2])),\n",
        "    BatchNormalization(),\n",
        "    Dropout(0.4),\n",
        "\n",
        "    Bidirectional(LSTM(128, return_sequences=True)),\n",
        "    BatchNormalization(),\n",
        "    Dropout(0.4),\n",
        "\n",
        "    Bidirectional(LSTM(64, return_sequences=False)),\n",
        "    BatchNormalization(),\n",
        "    Dropout(0.3),\n",
        "\n",
        "    Dense(64, activation='relu'),\n",
        "    BatchNormalization(),\n",
        "    Dropout(0.3),\n",
        "\n",
        "    Dense(32, activation='relu'),\n",
        "    BatchNormalization(),\n",
        "    Dropout(0.2),\n",
        "\n",
        "    Dense(1, activation='sigmoid')\n",
        "])\n"
      ],
      "metadata": {
        "colab": {
          "base_uri": "https://localhost:8080/"
        },
        "id": "miC1bmwajaQZ",
        "outputId": "b6591c8e-caa1-4764-d0a2-d722d66b5e11"
      },
      "execution_count": null,
      "outputs": [
        {
          "output_type": "stream",
          "name": "stderr",
          "text": [
            "/usr/local/lib/python3.11/dist-packages/keras/src/layers/rnn/bidirectional.py:107: UserWarning: Do not pass an `input_shape`/`input_dim` argument to a layer. When using Sequential models, prefer using an `Input(shape)` object as the first layer in the model instead.\n",
            "  super().__init__(**kwargs)\n"
          ]
        }
      ]
    },
    {
      "cell_type": "markdown",
      "source": [
        "# 10. Configuração do otimizador e compilação do modelo"
      ],
      "metadata": {
        "id": "KK9h4FPIVTks"
      }
    },
    {
      "cell_type": "code",
      "source": [
        "optimizer = Adam(learning_rate=0.001)\n",
        "model.compile(optimizer=optimizer, loss='binary_crossentropy', metrics=['accuracy'])"
      ],
      "metadata": {
        "id": "srJIu0tkjcpA"
      },
      "execution_count": null,
      "outputs": []
    },
    {
      "cell_type": "markdown",
      "source": [
        "# 11. Configuração de callbacks para EarlyStopping, Checkpoints e Redução da Taxa de Aprendizado"
      ],
      "metadata": {
        "id": "2mLlHQh0VT_c"
      }
    },
    {
      "cell_type": "code",
      "source": [
        "early_stopping = EarlyStopping(\n",
        "    monitor='val_loss',\n",
        "    patience=15,\n",
        "    restore_best_weights=True,\n",
        "    min_delta=0.001\n",
        ")"
      ],
      "metadata": {
        "id": "d8Z0g54fjfIQ"
      },
      "execution_count": null,
      "outputs": []
    },
    {
      "cell_type": "code",
      "source": [
        "reduce_lr = ReduceLROnPlateau(\n",
        "    monitor='val_loss',\n",
        "    factor=0.5,\n",
        "    patience=5,\n",
        "    min_lr=0.00001,\n",
        "    verbose=1\n",
        ")"
      ],
      "metadata": {
        "id": "ljXwcXIWjiWZ"
      },
      "execution_count": null,
      "outputs": []
    },
    {
      "cell_type": "code",
      "source": [
        "model_checkpoint = ModelCheckpoint(\n",
        "    'best_model.keras',\n",
        "    monitor='val_accuracy',\n",
        "    save_best_only=True,\n",
        "    mode='max'\n",
        ")"
      ],
      "metadata": {
        "id": "dEo9m5e9jjrf"
      },
      "execution_count": null,
      "outputs": []
    },
    {
      "cell_type": "markdown",
      "source": [
        "# 12. Treinamento do modelo"
      ],
      "metadata": {
        "id": "R6bS0bSsVVN0"
      }
    },
    {
      "cell_type": "code",
      "source": [
        "history = model.fit(\n",
        "    X_train_seq, y_train,\n",
        "    epochs=150,\n",
        "    batch_size=64,\n",
        "    validation_split=0.2,\n",
        "    callbacks=[early_stopping, reduce_lr, model_checkpoint],\n",
        "    class_weight=class_weight_dict,\n",
        "    verbose=1\n",
        ")"
      ],
      "metadata": {
        "colab": {
          "base_uri": "https://localhost:8080/"
        },
        "id": "oAcW9fozjlFX",
        "outputId": "f85f54a7-7cdb-48d2-c133-6637fe8e060b"
      },
      "execution_count": null,
      "outputs": [
        {
          "output_type": "stream",
          "name": "stdout",
          "text": [
            "Epoch 1/150\n",
            "\u001b[1m86/86\u001b[0m \u001b[32m━━━━━━━━━━━━━━━━━━━━\u001b[0m\u001b[37m\u001b[0m \u001b[1m54s\u001b[0m 319ms/step - accuracy: 0.5844 - loss: 0.7515 - val_accuracy: 0.5484 - val_loss: 0.6668 - learning_rate: 0.0010\n",
            "Epoch 2/150\n",
            "\u001b[1m86/86\u001b[0m \u001b[32m━━━━━━━━━━━━━━━━━━━━\u001b[0m\u001b[37m\u001b[0m \u001b[1m18s\u001b[0m 209ms/step - accuracy: 0.6549 - loss: 0.6441 - val_accuracy: 0.7287 - val_loss: 0.5231 - learning_rate: 0.0010\n",
            "Epoch 3/150\n",
            "\u001b[1m86/86\u001b[0m \u001b[32m━━━━━━━━━━━━━━━━━━━━\u001b[0m\u001b[37m\u001b[0m \u001b[1m18s\u001b[0m 206ms/step - accuracy: 0.7164 - loss: 0.5654 - val_accuracy: 0.8101 - val_loss: 0.4385 - learning_rate: 0.0010\n",
            "Epoch 4/150\n",
            "\u001b[1m86/86\u001b[0m \u001b[32m━━━━━━━━━━━━━━━━━━━━\u001b[0m\u001b[37m\u001b[0m \u001b[1m23s\u001b[0m 232ms/step - accuracy: 0.7326 - loss: 0.5506 - val_accuracy: 0.7522 - val_loss: 0.5888 - learning_rate: 0.0010\n",
            "Epoch 5/150\n",
            "\u001b[1m86/86\u001b[0m \u001b[32m━━━━━━━━━━━━━━━━━━━━\u001b[0m\u001b[37m\u001b[0m \u001b[1m18s\u001b[0m 201ms/step - accuracy: 0.7651 - loss: 0.5003 - val_accuracy: 0.7940 - val_loss: 0.5398 - learning_rate: 0.0010\n",
            "Epoch 6/150\n",
            "\u001b[1m86/86\u001b[0m \u001b[32m━━━━━━━━━━━━━━━━━━━━\u001b[0m\u001b[37m\u001b[0m \u001b[1m21s\u001b[0m 201ms/step - accuracy: 0.7841 - loss: 0.4699 - val_accuracy: 0.7397 - val_loss: 0.6728 - learning_rate: 0.0010\n",
            "Epoch 7/150\n",
            "\u001b[1m86/86\u001b[0m \u001b[32m━━━━━━━━━━━━━━━━━━━━\u001b[0m\u001b[37m\u001b[0m \u001b[1m20s\u001b[0m 201ms/step - accuracy: 0.7926 - loss: 0.4567 - val_accuracy: 0.8328 - val_loss: 0.4394 - learning_rate: 0.0010\n",
            "Epoch 8/150\n",
            "\u001b[1m86/86\u001b[0m \u001b[32m━━━━━━━━━━━━━━━━━━━━\u001b[0m\u001b[37m\u001b[0m \u001b[1m0s\u001b[0m 187ms/step - accuracy: 0.7721 - loss: 0.4817\n",
            "Epoch 8: ReduceLROnPlateau reducing learning rate to 0.0005000000237487257.\n",
            "\u001b[1m86/86\u001b[0m \u001b[32m━━━━━━━━━━━━━━━━━━━━\u001b[0m\u001b[37m\u001b[0m \u001b[1m20s\u001b[0m 199ms/step - accuracy: 0.7721 - loss: 0.4816 - val_accuracy: 0.8211 - val_loss: 0.4500 - learning_rate: 0.0010\n",
            "Epoch 9/150\n",
            "\u001b[1m86/86\u001b[0m \u001b[32m━━━━━━━━━━━━━━━━━━━━\u001b[0m\u001b[37m\u001b[0m \u001b[1m21s\u001b[0m 207ms/step - accuracy: 0.8032 - loss: 0.4360 - val_accuracy: 0.8563 - val_loss: 0.3988 - learning_rate: 5.0000e-04\n",
            "Epoch 10/150\n",
            "\u001b[1m86/86\u001b[0m \u001b[32m━━━━━━━━━━━━━━━━━━━━\u001b[0m\u001b[37m\u001b[0m \u001b[1m20s\u001b[0m 201ms/step - accuracy: 0.8144 - loss: 0.4066 - val_accuracy: 0.8152 - val_loss: 0.4846 - learning_rate: 5.0000e-04\n",
            "Epoch 11/150\n",
            "\u001b[1m86/86\u001b[0m \u001b[32m━━━━━━━━━━━━━━━━━━━━\u001b[0m\u001b[37m\u001b[0m \u001b[1m24s\u001b[0m 246ms/step - accuracy: 0.8107 - loss: 0.4210 - val_accuracy: 0.8585 - val_loss: 0.3589 - learning_rate: 5.0000e-04\n",
            "Epoch 12/150\n",
            "\u001b[1m86/86\u001b[0m \u001b[32m━━━━━━━━━━━━━━━━━━━━\u001b[0m\u001b[37m\u001b[0m \u001b[1m17s\u001b[0m 203ms/step - accuracy: 0.8246 - loss: 0.4138 - val_accuracy: 0.8607 - val_loss: 0.3957 - learning_rate: 5.0000e-04\n",
            "Epoch 13/150\n",
            "\u001b[1m86/86\u001b[0m \u001b[32m━━━━━━━━━━━━━━━━━━━━\u001b[0m\u001b[37m\u001b[0m \u001b[1m21s\u001b[0m 204ms/step - accuracy: 0.8231 - loss: 0.3971 - val_accuracy: 0.8534 - val_loss: 0.3915 - learning_rate: 5.0000e-04\n",
            "Epoch 14/150\n",
            "\u001b[1m86/86\u001b[0m \u001b[32m━━━━━━━━━━━━━━━━━━━━\u001b[0m\u001b[37m\u001b[0m \u001b[1m20s\u001b[0m 200ms/step - accuracy: 0.8261 - loss: 0.3946 - val_accuracy: 0.8475 - val_loss: 0.4120 - learning_rate: 5.0000e-04\n",
            "Epoch 15/150\n",
            "\u001b[1m86/86\u001b[0m \u001b[32m━━━━━━━━━━━━━━━━━━━━\u001b[0m\u001b[37m\u001b[0m \u001b[1m21s\u001b[0m 209ms/step - accuracy: 0.8391 - loss: 0.3838 - val_accuracy: 0.8651 - val_loss: 0.3462 - learning_rate: 5.0000e-04\n",
            "Epoch 16/150\n",
            "\u001b[1m86/86\u001b[0m \u001b[32m━━━━━━━━━━━━━━━━━━━━\u001b[0m\u001b[37m\u001b[0m \u001b[1m20s\u001b[0m 200ms/step - accuracy: 0.8445 - loss: 0.3543 - val_accuracy: 0.8607 - val_loss: 0.3617 - learning_rate: 5.0000e-04\n",
            "Epoch 17/150\n",
            "\u001b[1m86/86\u001b[0m \u001b[32m━━━━━━━━━━━━━━━━━━━━\u001b[0m\u001b[37m\u001b[0m \u001b[1m22s\u001b[0m 222ms/step - accuracy: 0.8481 - loss: 0.3637 - val_accuracy: 0.8666 - val_loss: 0.3651 - learning_rate: 5.0000e-04\n",
            "Epoch 18/150\n",
            "\u001b[1m86/86\u001b[0m \u001b[32m━━━━━━━━━━━━━━━━━━━━\u001b[0m\u001b[37m\u001b[0m \u001b[1m19s\u001b[0m 221ms/step - accuracy: 0.8379 - loss: 0.3890 - val_accuracy: 0.8512 - val_loss: 0.3772 - learning_rate: 5.0000e-04\n",
            "Epoch 19/150\n",
            "\u001b[1m86/86\u001b[0m \u001b[32m━━━━━━━━━━━━━━━━━━━━\u001b[0m\u001b[37m\u001b[0m \u001b[1m20s\u001b[0m 230ms/step - accuracy: 0.8425 - loss: 0.3759 - val_accuracy: 0.8702 - val_loss: 0.3467 - learning_rate: 5.0000e-04\n",
            "Epoch 20/150\n",
            "\u001b[1m86/86\u001b[0m \u001b[32m━━━━━━━━━━━━━━━━━━━━\u001b[0m\u001b[37m\u001b[0m \u001b[1m0s\u001b[0m 209ms/step - accuracy: 0.8596 - loss: 0.3479\n",
            "Epoch 20: ReduceLROnPlateau reducing learning rate to 0.0002500000118743628.\n",
            "\u001b[1m86/86\u001b[0m \u001b[32m━━━━━━━━━━━━━━━━━━━━\u001b[0m\u001b[37m\u001b[0m \u001b[1m20s\u001b[0m 222ms/step - accuracy: 0.8596 - loss: 0.3480 - val_accuracy: 0.8607 - val_loss: 0.3590 - learning_rate: 5.0000e-04\n",
            "Epoch 21/150\n",
            "\u001b[1m86/86\u001b[0m \u001b[32m━━━━━━━━━━━━━━━━━━━━\u001b[0m\u001b[37m\u001b[0m \u001b[1m19s\u001b[0m 203ms/step - accuracy: 0.8595 - loss: 0.3382 - val_accuracy: 0.8761 - val_loss: 0.3256 - learning_rate: 2.5000e-04\n",
            "Epoch 22/150\n",
            "\u001b[1m86/86\u001b[0m \u001b[32m━━━━━━━━━━━━━━━━━━━━\u001b[0m\u001b[37m\u001b[0m \u001b[1m22s\u001b[0m 218ms/step - accuracy: 0.8699 - loss: 0.3298 - val_accuracy: 0.8563 - val_loss: 0.3677 - learning_rate: 2.5000e-04\n",
            "Epoch 23/150\n",
            "\u001b[1m86/86\u001b[0m \u001b[32m━━━━━━━━━━━━━━━━━━━━\u001b[0m\u001b[37m\u001b[0m \u001b[1m18s\u001b[0m 204ms/step - accuracy: 0.8610 - loss: 0.3434 - val_accuracy: 0.8761 - val_loss: 0.3411 - learning_rate: 2.5000e-04\n",
            "Epoch 24/150\n",
            "\u001b[1m86/86\u001b[0m \u001b[32m━━━━━━━━━━━━━━━━━━━━\u001b[0m\u001b[37m\u001b[0m \u001b[1m17s\u001b[0m 204ms/step - accuracy: 0.8549 - loss: 0.3456 - val_accuracy: 0.8768 - val_loss: 0.3226 - learning_rate: 2.5000e-04\n",
            "Epoch 25/150\n",
            "\u001b[1m86/86\u001b[0m \u001b[32m━━━━━━━━━━━━━━━━━━━━\u001b[0m\u001b[37m\u001b[0m \u001b[1m23s\u001b[0m 228ms/step - accuracy: 0.8631 - loss: 0.3356 - val_accuracy: 0.8680 - val_loss: 0.3303 - learning_rate: 2.5000e-04\n",
            "Epoch 26/150\n",
            "\u001b[1m86/86\u001b[0m \u001b[32m━━━━━━━━━━━━━━━━━━━━\u001b[0m\u001b[37m\u001b[0m \u001b[1m18s\u001b[0m 204ms/step - accuracy: 0.8718 - loss: 0.3186 - val_accuracy: 0.8805 - val_loss: 0.3340 - learning_rate: 2.5000e-04\n",
            "Epoch 27/150\n",
            "\u001b[1m86/86\u001b[0m \u001b[32m━━━━━━━━━━━━━━━━━━━━\u001b[0m\u001b[37m\u001b[0m \u001b[1m21s\u001b[0m 206ms/step - accuracy: 0.8705 - loss: 0.3277 - val_accuracy: 0.8673 - val_loss: 0.3526 - learning_rate: 2.5000e-04\n",
            "Epoch 28/150\n",
            "\u001b[1m86/86\u001b[0m \u001b[32m━━━━━━━━━━━━━━━━━━━━\u001b[0m\u001b[37m\u001b[0m \u001b[1m20s\u001b[0m 204ms/step - accuracy: 0.8640 - loss: 0.3385 - val_accuracy: 0.8688 - val_loss: 0.3329 - learning_rate: 2.5000e-04\n",
            "Epoch 29/150\n",
            "\u001b[1m86/86\u001b[0m \u001b[32m━━━━━━━━━━━━━━━━━━━━\u001b[0m\u001b[37m\u001b[0m \u001b[1m17s\u001b[0m 203ms/step - accuracy: 0.8668 - loss: 0.3212 - val_accuracy: 0.8812 - val_loss: 0.3143 - learning_rate: 2.5000e-04\n",
            "Epoch 30/150\n",
            "\u001b[1m86/86\u001b[0m \u001b[32m━━━━━━━━━━━━━━━━━━━━\u001b[0m\u001b[37m\u001b[0m \u001b[1m21s\u001b[0m 211ms/step - accuracy: 0.8682 - loss: 0.3130 - val_accuracy: 0.8673 - val_loss: 0.3235 - learning_rate: 2.5000e-04\n",
            "Epoch 31/150\n",
            "\u001b[1m86/86\u001b[0m \u001b[32m━━━━━━━━━━━━━━━━━━━━\u001b[0m\u001b[37m\u001b[0m \u001b[1m21s\u001b[0m 223ms/step - accuracy: 0.8671 - loss: 0.3269 - val_accuracy: 0.8776 - val_loss: 0.3254 - learning_rate: 2.5000e-04\n",
            "Epoch 32/150\n",
            "\u001b[1m86/86\u001b[0m \u001b[32m━━━━━━━━━━━━━━━━━━━━\u001b[0m\u001b[37m\u001b[0m \u001b[1m20s\u001b[0m 228ms/step - accuracy: 0.8627 - loss: 0.3279 - val_accuracy: 0.8739 - val_loss: 0.3170 - learning_rate: 2.5000e-04\n",
            "Epoch 33/150\n",
            "\u001b[1m86/86\u001b[0m \u001b[32m━━━━━━━━━━━━━━━━━━━━\u001b[0m\u001b[37m\u001b[0m \u001b[1m18s\u001b[0m 200ms/step - accuracy: 0.8808 - loss: 0.3041 - val_accuracy: 0.8768 - val_loss: 0.3241 - learning_rate: 2.5000e-04\n",
            "Epoch 34/150\n",
            "\u001b[1m86/86\u001b[0m \u001b[32m━━━━━━━━━━━━━━━━━━━━\u001b[0m\u001b[37m\u001b[0m \u001b[1m0s\u001b[0m 187ms/step - accuracy: 0.8761 - loss: 0.2997\n",
            "Epoch 34: ReduceLROnPlateau reducing learning rate to 0.0001250000059371814.\n",
            "\u001b[1m86/86\u001b[0m \u001b[32m━━━━━━━━━━━━━━━━━━━━\u001b[0m\u001b[37m\u001b[0m \u001b[1m22s\u001b[0m 218ms/step - accuracy: 0.8761 - loss: 0.2998 - val_accuracy: 0.8798 - val_loss: 0.3263 - learning_rate: 2.5000e-04\n",
            "Epoch 35/150\n",
            "\u001b[1m86/86\u001b[0m \u001b[32m━━━━━━━━━━━━━━━━━━━━\u001b[0m\u001b[37m\u001b[0m \u001b[1m19s\u001b[0m 200ms/step - accuracy: 0.8829 - loss: 0.2929 - val_accuracy: 0.8768 - val_loss: 0.3333 - learning_rate: 1.2500e-04\n",
            "Epoch 36/150\n",
            "\u001b[1m86/86\u001b[0m \u001b[32m━━━━━━━━━━━━━━━━━━━━\u001b[0m\u001b[37m\u001b[0m \u001b[1m22s\u001b[0m 215ms/step - accuracy: 0.8774 - loss: 0.3190 - val_accuracy: 0.8739 - val_loss: 0.3419 - learning_rate: 1.2500e-04\n",
            "Epoch 37/150\n",
            "\u001b[1m86/86\u001b[0m \u001b[32m━━━━━━━━━━━━━━━━━━━━\u001b[0m\u001b[37m\u001b[0m \u001b[1m19s\u001b[0m 202ms/step - accuracy: 0.8886 - loss: 0.2777 - val_accuracy: 0.8820 - val_loss: 0.3108 - learning_rate: 1.2500e-04\n",
            "Epoch 38/150\n",
            "\u001b[1m86/86\u001b[0m \u001b[32m━━━━━━━━━━━━━━━━━━━━\u001b[0m\u001b[37m\u001b[0m \u001b[1m19s\u001b[0m 224ms/step - accuracy: 0.8846 - loss: 0.2939 - val_accuracy: 0.8768 - val_loss: 0.3193 - learning_rate: 1.2500e-04\n",
            "Epoch 39/150\n",
            "\u001b[1m86/86\u001b[0m \u001b[32m━━━━━━━━━━━━━━━━━━━━\u001b[0m\u001b[37m\u001b[0m \u001b[1m20s\u001b[0m 216ms/step - accuracy: 0.8878 - loss: 0.2855 - val_accuracy: 0.8812 - val_loss: 0.3209 - learning_rate: 1.2500e-04\n",
            "Epoch 40/150\n",
            "\u001b[1m86/86\u001b[0m \u001b[32m━━━━━━━━━━━━━━━━━━━━\u001b[0m\u001b[37m\u001b[0m \u001b[1m19s\u001b[0m 203ms/step - accuracy: 0.8841 - loss: 0.2842 - val_accuracy: 0.8651 - val_loss: 0.3389 - learning_rate: 1.2500e-04\n",
            "Epoch 41/150\n",
            "\u001b[1m86/86\u001b[0m \u001b[32m━━━━━━━━━━━━━━━━━━━━\u001b[0m\u001b[37m\u001b[0m \u001b[1m22s\u001b[0m 222ms/step - accuracy: 0.8798 - loss: 0.2982 - val_accuracy: 0.8776 - val_loss: 0.3176 - learning_rate: 1.2500e-04\n",
            "Epoch 42/150\n",
            "\u001b[1m86/86\u001b[0m \u001b[32m━━━━━━━━━━━━━━━━━━━━\u001b[0m\u001b[37m\u001b[0m \u001b[1m0s\u001b[0m 188ms/step - accuracy: 0.8905 - loss: 0.2825\n",
            "Epoch 42: ReduceLROnPlateau reducing learning rate to 6.25000029685907e-05.\n",
            "\u001b[1m86/86\u001b[0m \u001b[32m━━━━━━━━━━━━━━━━━━━━\u001b[0m\u001b[37m\u001b[0m \u001b[1m19s\u001b[0m 201ms/step - accuracy: 0.8905 - loss: 0.2826 - val_accuracy: 0.8651 - val_loss: 0.3289 - learning_rate: 1.2500e-04\n",
            "Epoch 43/150\n",
            "\u001b[1m86/86\u001b[0m \u001b[32m━━━━━━━━━━━━━━━━━━━━\u001b[0m\u001b[37m\u001b[0m \u001b[1m22s\u001b[0m 215ms/step - accuracy: 0.8833 - loss: 0.3002 - val_accuracy: 0.8776 - val_loss: 0.3273 - learning_rate: 6.2500e-05\n",
            "Epoch 44/150\n",
            "\u001b[1m86/86\u001b[0m \u001b[32m━━━━━━━━━━━━━━━━━━━━\u001b[0m\u001b[37m\u001b[0m \u001b[1m19s\u001b[0m 201ms/step - accuracy: 0.8904 - loss: 0.2768 - val_accuracy: 0.8776 - val_loss: 0.3223 - learning_rate: 6.2500e-05\n",
            "Epoch 45/150\n",
            "\u001b[1m86/86\u001b[0m \u001b[32m━━━━━━━━━━━━━━━━━━━━\u001b[0m\u001b[37m\u001b[0m \u001b[1m19s\u001b[0m 226ms/step - accuracy: 0.8898 - loss: 0.2831 - val_accuracy: 0.8768 - val_loss: 0.3175 - learning_rate: 6.2500e-05\n",
            "Epoch 46/150\n",
            "\u001b[1m86/86\u001b[0m \u001b[32m━━━━━━━━━━━━━━━━━━━━\u001b[0m\u001b[37m\u001b[0m \u001b[1m19s\u001b[0m 223ms/step - accuracy: 0.8865 - loss: 0.2827 - val_accuracy: 0.8666 - val_loss: 0.3218 - learning_rate: 6.2500e-05\n",
            "Epoch 47/150\n",
            "\u001b[1m86/86\u001b[0m \u001b[32m━━━━━━━━━━━━━━━━━━━━\u001b[0m\u001b[37m\u001b[0m \u001b[1m0s\u001b[0m 189ms/step - accuracy: 0.8995 - loss: 0.2719\n",
            "Epoch 47: ReduceLROnPlateau reducing learning rate to 3.125000148429535e-05.\n",
            "\u001b[1m86/86\u001b[0m \u001b[32m━━━━━━━━━━━━━━━━━━━━\u001b[0m\u001b[37m\u001b[0m \u001b[1m19s\u001b[0m 202ms/step - accuracy: 0.8994 - loss: 0.2721 - val_accuracy: 0.8710 - val_loss: 0.3213 - learning_rate: 6.2500e-05\n",
            "Epoch 48/150\n",
            "\u001b[1m86/86\u001b[0m \u001b[32m━━━━━━━━━━━━━━━━━━━━\u001b[0m\u001b[37m\u001b[0m \u001b[1m22s\u001b[0m 221ms/step - accuracy: 0.8891 - loss: 0.2857 - val_accuracy: 0.8702 - val_loss: 0.3218 - learning_rate: 3.1250e-05\n",
            "Epoch 49/150\n",
            "\u001b[1m86/86\u001b[0m \u001b[32m━━━━━━━━━━━━━━━━━━━━\u001b[0m\u001b[37m\u001b[0m \u001b[1m20s\u001b[0m 215ms/step - accuracy: 0.8876 - loss: 0.2782 - val_accuracy: 0.8702 - val_loss: 0.3216 - learning_rate: 3.1250e-05\n",
            "Epoch 50/150\n",
            "\u001b[1m86/86\u001b[0m \u001b[32m━━━━━━━━━━━━━━━━━━━━\u001b[0m\u001b[37m\u001b[0m \u001b[1m21s\u001b[0m 219ms/step - accuracy: 0.8910 - loss: 0.2790 - val_accuracy: 0.8732 - val_loss: 0.3226 - learning_rate: 3.1250e-05\n",
            "Epoch 51/150\n",
            "\u001b[1m86/86\u001b[0m \u001b[32m━━━━━━━━━━━━━━━━━━━━\u001b[0m\u001b[37m\u001b[0m \u001b[1m18s\u001b[0m 209ms/step - accuracy: 0.8932 - loss: 0.2731 - val_accuracy: 0.8710 - val_loss: 0.3243 - learning_rate: 3.1250e-05\n",
            "Epoch 52/150\n",
            "\u001b[1m86/86\u001b[0m \u001b[32m━━━━━━━━━━━━━━━━━━━━\u001b[0m\u001b[37m\u001b[0m \u001b[1m0s\u001b[0m 208ms/step - accuracy: 0.8861 - loss: 0.2845\n",
            "Epoch 52: ReduceLROnPlateau reducing learning rate to 1.5625000742147677e-05.\n",
            "\u001b[1m86/86\u001b[0m \u001b[32m━━━━━━━━━━━━━━━━━━━━\u001b[0m\u001b[37m\u001b[0m \u001b[1m19s\u001b[0m 220ms/step - accuracy: 0.8861 - loss: 0.2844 - val_accuracy: 0.8732 - val_loss: 0.3225 - learning_rate: 3.1250e-05\n"
          ]
        }
      ]
    },
    {
      "cell_type": "markdown",
      "source": [
        "# 13. Avaliação do modelo no conjunto de teste"
      ],
      "metadata": {
        "id": "FKKWR_IFVWVU"
      }
    },
    {
      "cell_type": "code",
      "source": [
        "test_loss, test_acc = model.evaluate(X_test_seq, y_test)\n",
        "print(f'Acurácia no conjunto de teste: {test_acc:.4f}')"
      ],
      "metadata": {
        "colab": {
          "base_uri": "https://localhost:8080/"
        },
        "id": "Ryc2zgpsjnaG",
        "outputId": "2293a515-accf-4564-a01c-407c0e344df9"
      },
      "execution_count": null,
      "outputs": [
        {
          "output_type": "stream",
          "name": "stdout",
          "text": [
            "\u001b[1m52/52\u001b[0m \u001b[32m━━━━━━━━━━━━━━━━━━━━\u001b[0m\u001b[37m\u001b[0m \u001b[1m2s\u001b[0m 39ms/step - accuracy: 0.8737 - loss: 0.3414\n",
            "Acurácia no conjunto de teste: 0.8593\n"
          ]
        }
      ]
    },
    {
      "cell_type": "markdown",
      "source": [
        "# 14. Previsão e cálculo do limiar para classificação binária"
      ],
      "metadata": {
        "id": "IUEcZ6kVVWxM"
      }
    },
    {
      "cell_type": "code",
      "source": [
        "y_pred_proba = model.predict(X_test_seq)\n",
        "threshold = 0.5\n",
        "y_pred = (y_pred_proba > threshold).astype(int)"
      ],
      "metadata": {
        "colab": {
          "base_uri": "https://localhost:8080/"
        },
        "id": "H6GapNvTqEP2",
        "outputId": "cde08402-27ed-4636-8bdd-98e76c3aa53a"
      },
      "execution_count": null,
      "outputs": [
        {
          "output_type": "stream",
          "name": "stdout",
          "text": [
            "\u001b[1m52/52\u001b[0m \u001b[32m━━━━━━━━━━━━━━━━━━━━\u001b[0m\u001b[37m\u001b[0m \u001b[1m6s\u001b[0m 75ms/step\n"
          ]
        }
      ]
    },
    {
      "cell_type": "markdown",
      "source": [
        "# 15. Criação e exibição da matriz de confusão"
      ],
      "metadata": {
        "id": "-o7d14E3VXcr"
      }
    },
    {
      "cell_type": "code",
      "source": [
        "conf_matrix = confusion_matrix(y_test, y_pred)\n",
        "plt.figure(figsize=(6, 4))\n",
        "sns.heatmap(conf_matrix, annot=True, fmt='d', cmap='Blues',\n",
        "            xticklabels=['Vender (-1)', 'Comprar (1)'],\n",
        "            yticklabels=['Vender (-1)', 'Comprar (1)'])\n",
        "plt.xlabel('Previsão')\n",
        "plt.ylabel('Real')\n",
        "plt.title('Matriz de Confusão')\n",
        "plt.show()"
      ],
      "metadata": {
        "colab": {
          "base_uri": "https://localhost:8080/",
          "height": 410
        },
        "id": "jPakRf2Tq4Tg",
        "outputId": "c95979ee-352f-4388-ee65-98a719f6b6b3"
      },
      "execution_count": null,
      "outputs": [
        {
          "output_type": "display_data",
          "data": {
            "text/plain": [
              "<Figure size 600x400 with 2 Axes>"
            ],
            "image/png": "[encoded data removed]"
          },
          "metadata": {}
        }
      ]
    },
    {
      "cell_type": "markdown",
      "source": [
        "# 16. Cálculo e exibição de métricas de avaliação"
      ],
      "metadata": {
        "id": "PxaH-K9xVYlj"
      }
    },
    {
      "cell_type": "code",
      "source": [
        "precision = precision_score(y_test, y_pred)\n",
        "recall = recall_score(y_test, y_pred)\n",
        "f1 = f1_score(y_test, y_pred)"
      ],
      "metadata": {
        "id": "hSkAtSH5q-Z8"
      },
      "execution_count": null,
      "outputs": []
    },
    {
      "cell_type": "code",
      "source": [
        "print(f\"Precisão: {precision:.4f}\")\n",
        "print(f\"Recall: {recall:.4f}\")\n",
        "print(f\"F1-Score: {f1:.4f}\")\n",
        "print(\"\\nRelatório de Classificação:\")\n",
        "print(classification_report(y_test, y_pred, target_names=['Vender (-1)', 'Comprar (1)']))"
      ],
      "metadata": {
        "colab": {
          "base_uri": "https://localhost:8080/"
        },
        "id": "Mb35GcuUrBzc",
        "outputId": "07cb4bd7-456b-48e8-9cd1-0b5895b33a03"
      },
      "execution_count": null,
      "outputs": [
        {
          "output_type": "stream",
          "name": "stdout",
          "text": [
            "Precisão: 0.8287\n",
            "Recall: 0.9577\n",
            "F1-Score: 0.8886\n",
            "\n",
            "Relatório de Classificação:\n",
            "              precision    recall  f1-score   support\n",
            "\n",
            " Vender (-1)       0.92      0.72      0.81       686\n",
            " Comprar (1)       0.83      0.96      0.89       970\n",
            "\n",
            "    accuracy                           0.86      1656\n",
            "   macro avg       0.88      0.84      0.85      1656\n",
            "weighted avg       0.87      0.86      0.86      1656\n",
            "\n"
          ]
        }
      ]
    }
  ]
}